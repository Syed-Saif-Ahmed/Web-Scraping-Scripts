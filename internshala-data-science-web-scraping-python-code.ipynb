{
 "cells": [
  {
   "cell_type": "code",
   "execution_count": 1,
   "id": "c40589a1",
   "metadata": {
    "execution": {
     "iopub.execute_input": "2022-07-02T09:51:18.793769Z",
     "iopub.status.busy": "2022-07-02T09:51:18.792623Z",
     "iopub.status.idle": "2022-07-02T09:51:18.807010Z",
     "shell.execute_reply": "2022-07-02T09:51:18.806232Z"
    },
    "papermill": {
     "duration": 0.022341,
     "end_time": "2022-07-02T09:51:18.809228",
     "exception": false,
     "start_time": "2022-07-02T09:51:18.786887",
     "status": "completed"
    },
    "tags": []
   },
   "outputs": [],
   "source": [
    "\n",
    "import pandas as pd\n",
    "import requests"
   ]
  },
  {
   "cell_type": "code",
   "execution_count": 2,
   "id": "6d4aef1e",
   "metadata": {
    "execution": {
     "iopub.execute_input": "2022-07-02T09:51:18.817447Z",
     "iopub.status.busy": "2022-07-02T09:51:18.816936Z",
     "iopub.status.idle": "2022-07-02T09:51:19.025566Z",
     "shell.execute_reply": "2022-07-02T09:51:19.024308Z"
    },
    "papermill": {
     "duration": 0.215693,
     "end_time": "2022-07-02T09:51:19.028372",
     "exception": false,
     "start_time": "2022-07-02T09:51:18.812679",
     "status": "completed"
    },
    "tags": []
   },
   "outputs": [],
   "source": [
    "from bs4 import BeautifulSoup as soup\n"
   ]
  },
  {
   "cell_type": "code",
   "execution_count": 3,
   "id": "95fc2518",
   "metadata": {
    "execution": {
     "iopub.execute_input": "2022-07-02T09:51:19.036412Z",
     "iopub.status.busy": "2022-07-02T09:51:19.036069Z",
     "iopub.status.idle": "2022-07-02T09:51:19.041230Z",
     "shell.execute_reply": "2022-07-02T09:51:19.040076Z"
    },
    "papermill": {
     "duration": 0.011855,
     "end_time": "2022-07-02T09:51:19.043557",
     "exception": false,
     "start_time": "2022-07-02T09:51:19.031702",
     "status": "completed"
    },
    "tags": []
   },
   "outputs": [],
   "source": [
    "from urllib.request import urlopen as uReq"
   ]
  },
  {
   "cell_type": "code",
   "execution_count": 4,
   "id": "f2b68901",
   "metadata": {
    "execution": {
     "iopub.execute_input": "2022-07-02T09:51:19.051724Z",
     "iopub.status.busy": "2022-07-02T09:51:19.051018Z",
     "iopub.status.idle": "2022-07-02T09:51:19.056901Z",
     "shell.execute_reply": "2022-07-02T09:51:19.055815Z"
    },
    "papermill": {
     "duration": 0.01289,
     "end_time": "2022-07-02T09:51:19.059619",
     "exception": false,
     "start_time": "2022-07-02T09:51:19.046729",
     "status": "completed"
    },
    "tags": []
   },
   "outputs": [],
   "source": [
    "my_url = 'https://internshala.com/internships/data%20science-internship/page-'\n",
    "location = [] # This List will conytain location or region of internships\n",
    "company_name = [] # This list will contain the names of the company who are providing the Internships\n",
    "intern_role = [] # This list will contains the name of the company \n",
    "intern_dur = []\n",
    "stipend = []"
   ]
  },
  {
   "cell_type": "code",
   "execution_count": 5,
   "id": "cb02d7f5",
   "metadata": {
    "execution": {
     "iopub.execute_input": "2022-07-02T09:51:19.068099Z",
     "iopub.status.busy": "2022-07-02T09:51:19.067726Z",
     "iopub.status.idle": "2022-07-02T09:51:24.649303Z",
     "shell.execute_reply": "2022-07-02T09:51:24.648003Z"
    },
    "papermill": {
     "duration": 5.58912,
     "end_time": "2022-07-02T09:51:24.652278",
     "exception": false,
     "start_time": "2022-07-02T09:51:19.063158",
     "status": "completed"
    },
    "tags": []
   },
   "outputs": [],
   "source": [
    "for page in range(1,4,1):\n",
    "    \n",
    "    data_file=requests.get(my_url+str(page))\n",
    "    content=data_file.content\n",
    "    data=soup(content,'html.parser')\n",
    "\n",
    "    all = data.find_all('div',{'class' : 'internship_meta'})\n",
    "\n",
    "    \n",
    "    for i in range(len(all)):\n",
    "        intern_role.append(all[i].find_all('a',class_ = 'view_detail_button')[0].text)\n",
    "   \n",
    "\n",
    " \n",
    "    for i in range(len(all)):\n",
    "        location.append(all[i].find_all('a',class_= 'location_link view_detail_button')[0].text)\n",
    " \n",
    "\n",
    "    \n",
    "    for i in range(len(all)):\n",
    "        stipend.append(all[i].find_all('span',class_ = 'stipend')[0].text)\n",
    "   \n",
    "\n",
    "  \n",
    "    for i in range(len(all)):\n",
    "        a=all[i].find_all('div',class_ = 'item_body')[1].text\n",
    "        a=a.strip('\\n')\n",
    "        a=a.strip(' ')\n",
    "        intern_dur.append(a)\n",
    "   \n",
    "\n",
    "    \n",
    "    for i in range(len(all)):\n",
    "        a = all[i].find_all('a',class_= 'link_display_like_text view_detail_button')[0].text\n",
    "        a=a.strip('\\n')\n",
    "        a=a.strip(' ')\n",
    "        company_name.append(a)\n",
    "  "
   ]
  },
  {
   "cell_type": "code",
   "execution_count": 6,
   "id": "a87ed556",
   "metadata": {
    "execution": {
     "iopub.execute_input": "2022-07-02T09:51:24.660716Z",
     "iopub.status.busy": "2022-07-02T09:51:24.660347Z",
     "iopub.status.idle": "2022-07-02T09:51:24.665836Z",
     "shell.execute_reply": "2022-07-02T09:51:24.664727Z"
    },
    "papermill": {
     "duration": 0.012139,
     "end_time": "2022-07-02T09:51:24.668024",
     "exception": false,
     "start_time": "2022-07-02T09:51:24.655885",
     "status": "completed"
    },
    "tags": []
   },
   "outputs": [],
   "source": [
    "dict = {\"Internship_role\":intern_role,\"Company\":company_name,\"location\":location,\"duration\":intern_dur,\"stipend\":stipend}"
   ]
  },
  {
   "cell_type": "code",
   "execution_count": 7,
   "id": "2b8d4107",
   "metadata": {
    "execution": {
     "iopub.execute_input": "2022-07-02T09:51:24.675926Z",
     "iopub.status.busy": "2022-07-02T09:51:24.675471Z",
     "iopub.status.idle": "2022-07-02T09:51:24.705470Z",
     "shell.execute_reply": "2022-07-02T09:51:24.704563Z"
    },
    "papermill": {
     "duration": 0.036653,
     "end_time": "2022-07-02T09:51:24.707753",
     "exception": false,
     "start_time": "2022-07-02T09:51:24.671100",
     "status": "completed"
    },
    "tags": []
   },
   "outputs": [
    {
     "data": {
      "text/html": [
       "<div>\n",
       "<style scoped>\n",
       "    .dataframe tbody tr th:only-of-type {\n",
       "        vertical-align: middle;\n",
       "    }\n",
       "\n",
       "    .dataframe tbody tr th {\n",
       "        vertical-align: top;\n",
       "    }\n",
       "\n",
       "    .dataframe thead th {\n",
       "        text-align: right;\n",
       "    }\n",
       "</style>\n",
       "<table border=\"1\" class=\"dataframe\">\n",
       "  <thead>\n",
       "    <tr style=\"text-align: right;\">\n",
       "      <th></th>\n",
       "      <th>Internship_role</th>\n",
       "      <th>Company</th>\n",
       "      <th>location</th>\n",
       "      <th>duration</th>\n",
       "      <th>stipend</th>\n",
       "    </tr>\n",
       "  </thead>\n",
       "  <tbody>\n",
       "    <tr>\n",
       "      <th>0</th>\n",
       "      <td>Research Assistance (Truck Simulator Game Soft...</td>\n",
       "      <td>Indian Institute Of Science</td>\n",
       "      <td>Bangalore</td>\n",
       "      <td>6 Months</td>\n",
       "      <td>25000 /month</td>\n",
       "    </tr>\n",
       "    <tr>\n",
       "      <th>1</th>\n",
       "      <td>Data Science</td>\n",
       "      <td>Tiny Elephant Enterprises</td>\n",
       "      <td>Work From Home</td>\n",
       "      <td>2 Months</td>\n",
       "      <td>7000-12000 /month</td>\n",
       "    </tr>\n",
       "    <tr>\n",
       "      <th>2</th>\n",
       "      <td>Analytics &amp; BI</td>\n",
       "      <td>Investec Capital Services (India) Private Limited</td>\n",
       "      <td>Mumbai</td>\n",
       "      <td>3 Months</td>\n",
       "      <td>40000 /month</td>\n",
       "    </tr>\n",
       "    <tr>\n",
       "      <th>3</th>\n",
       "      <td>Data Processing</td>\n",
       "      <td>Uniprosys</td>\n",
       "      <td>Work From Home</td>\n",
       "      <td>3 Months</td>\n",
       "      <td>6000 /month</td>\n",
       "    </tr>\n",
       "    <tr>\n",
       "      <th>4</th>\n",
       "      <td>Auto Research</td>\n",
       "      <td>Scouto (acquired By Spinny)</td>\n",
       "      <td>Gurgaon</td>\n",
       "      <td>6 Months</td>\n",
       "      <td>10000 /month</td>\n",
       "    </tr>\n",
       "  </tbody>\n",
       "</table>\n",
       "</div>"
      ],
      "text/plain": [
       "                                     Internship_role  \\\n",
       "0  Research Assistance (Truck Simulator Game Soft...   \n",
       "1                                       Data Science   \n",
       "2                                     Analytics & BI   \n",
       "3                                    Data Processing   \n",
       "4                                      Auto Research   \n",
       "\n",
       "                                             Company        location  \\\n",
       "0                        Indian Institute Of Science       Bangalore   \n",
       "1                          Tiny Elephant Enterprises  Work From Home   \n",
       "2  Investec Capital Services (India) Private Limited          Mumbai   \n",
       "3                                          Uniprosys  Work From Home   \n",
       "4                        Scouto (acquired By Spinny)         Gurgaon   \n",
       "\n",
       "   duration             stipend  \n",
       "0  6 Months        25000 /month  \n",
       "1  2 Months   7000-12000 /month  \n",
       "2  3 Months        40000 /month  \n",
       "3  3 Months         6000 /month  \n",
       "4  6 Months        10000 /month  "
      ]
     },
     "execution_count": 7,
     "metadata": {},
     "output_type": "execute_result"
    }
   ],
   "source": [
    "df = pd.DataFrame(dict)\n",
    "df.head()"
   ]
  },
  {
   "cell_type": "code",
   "execution_count": 8,
   "id": "dd7a5841",
   "metadata": {
    "execution": {
     "iopub.execute_input": "2022-07-02T09:51:24.717101Z",
     "iopub.status.busy": "2022-07-02T09:51:24.716108Z",
     "iopub.status.idle": "2022-07-02T09:51:24.724655Z",
     "shell.execute_reply": "2022-07-02T09:51:24.723860Z"
    },
    "papermill": {
     "duration": 0.01569,
     "end_time": "2022-07-02T09:51:24.727121",
     "exception": false,
     "start_time": "2022-07-02T09:51:24.711431",
     "status": "completed"
    },
    "tags": []
   },
   "outputs": [],
   "source": [
    "df.to_csv('internshala_web_scrap_dataScience.csv')"
   ]
  }
 ],
 "metadata": {
  "kernelspec": {
   "display_name": "Python 3",
   "language": "python",
   "name": "python3"
  },
  "language_info": {
   "codemirror_mode": {
    "name": "ipython",
    "version": 3
   },
   "file_extension": ".py",
   "mimetype": "text/x-python",
   "name": "python",
   "nbconvert_exporter": "python",
   "pygments_lexer": "ipython3",
   "version": "3.7.12"
  },
  "papermill": {
   "default_parameters": {},
   "duration": 16.381821,
   "end_time": "2022-07-02T09:51:25.452135",
   "environment_variables": {},
   "exception": null,
   "input_path": "__notebook__.ipynb",
   "output_path": "__notebook__.ipynb",
   "parameters": {},
   "start_time": "2022-07-02T09:51:09.070314",
   "version": "2.3.4"
  }
 },
 "nbformat": 4,
 "nbformat_minor": 5
}
